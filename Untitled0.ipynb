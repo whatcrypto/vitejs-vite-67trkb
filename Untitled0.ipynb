{
  "nbformat": 4,
  "nbformat_minor": 0,
  "metadata": {
    "colab": {
      "provenance": [],
      "authorship_tag": "ABX9TyP8LO8MXsBpNU4DTpCAykf7",
      "include_colab_link": true
    },
    "kernelspec": {
      "name": "python3",
      "display_name": "Python 3"
    },
    "language_info": {
      "name": "python"
    }
  },
  "cells": [
    {
      "cell_type": "markdown",
      "metadata": {
        "id": "view-in-github",
        "colab_type": "text"
      },
      "source": [
        "<a href=\"https://colab.research.google.com/github/whatcrypto/vitejs-vite-67trkb/blob/main/Untitled0.ipynb\" target=\"_parent\"><img src=\"https://colab.research.google.com/assets/colab-badge.svg\" alt=\"Open In Colab\"/></a>"
      ]
    },
    {
      "cell_type": "code",
      "execution_count": 1,
      "metadata": {
        "colab": {
          "base_uri": "https://localhost:8080/"
        },
        "id": "Y9Vl664dmFjt",
        "outputId": "8719dfdc-77fa-47b1-e631-e314cf36de29"
      },
      "outputs": [
        {
          "output_type": "stream",
          "name": "stdout",
          "text": [
            "Requirement already satisfied: requests in /usr/local/lib/python3.10/dist-packages (2.32.3)\n",
            "Requirement already satisfied: numpy in /usr/local/lib/python3.10/dist-packages (1.26.4)\n",
            "Requirement already satisfied: pandas in /usr/local/lib/python3.10/dist-packages (2.1.4)\n",
            "Requirement already satisfied: charset-normalizer<4,>=2 in /usr/local/lib/python3.10/dist-packages (from requests) (3.3.2)\n",
            "Requirement already satisfied: idna<4,>=2.5 in /usr/local/lib/python3.10/dist-packages (from requests) (3.8)\n",
            "Requirement already satisfied: urllib3<3,>=1.21.1 in /usr/local/lib/python3.10/dist-packages (from requests) (2.0.7)\n",
            "Requirement already satisfied: certifi>=2017.4.17 in /usr/local/lib/python3.10/dist-packages (from requests) (2024.8.30)\n",
            "Requirement already satisfied: python-dateutil>=2.8.2 in /usr/local/lib/python3.10/dist-packages (from pandas) (2.8.2)\n",
            "Requirement already satisfied: pytz>=2020.1 in /usr/local/lib/python3.10/dist-packages (from pandas) (2024.1)\n",
            "Requirement already satisfied: tzdata>=2022.1 in /usr/local/lib/python3.10/dist-packages (from pandas) (2024.1)\n",
            "Requirement already satisfied: six>=1.5 in /usr/local/lib/python3.10/dist-packages (from python-dateutil>=2.8.2->pandas) (1.16.0)\n"
          ]
        }
      ],
      "source": [
        "!pip install requests numpy pandas\n"
      ]
    },
    {
      "cell_type": "code",
      "source": [
        "import requests\n",
        "import numpy as np\n",
        "\n",
        "# API URLs for CoinGecko\n",
        "COINGECKO_API_URL = \"https://api.coingecko.com/api/v3\"\n",
        "\n",
        "# Fetch cryptocurrency data from CoinGecko\n",
        "def fetch_coin_data(coin_id):\n",
        "    url = f\"{COINGECKO_API_URL}/coins/{coin_id}\"\n",
        "    response = requests.get(url)\n",
        "    return response.json()\n",
        "\n",
        "# Score calculation for Circulating Supply and Tokenomics\n",
        "def score_tokenomics(coin_data):\n",
        "    circulating_supply = coin_data['market_data']['circulating_supply']\n",
        "    total_supply = coin_data['market_data']['total_supply']\n",
        "\n",
        "    if total_supply is None or circulating_supply is None:\n",
        "        return 50  # Assign a middle value if data is missing\n",
        "\n",
        "    supply_ratio = (circulating_supply / total_supply) * 100\n",
        "    # Assign score based on supply ratio\n",
        "    if supply_ratio < 50:\n",
        "        tokenomics_score = 90\n",
        "    elif supply_ratio < 80:\n",
        "        tokenomics_score = 70\n",
        "    else:\n",
        "        tokenomics_score = 50\n",
        "\n",
        "    return tokenomics_score\n",
        "\n",
        "# Score calculation for Real-World Use Case and Ecosystem Growth (using transaction volume growth)\n",
        "def score_ecosystem_growth(coin_data):\n",
        "    current_volume = coin_data['market_data']['total_volume']['usd']\n",
        "    past_volume = coin_data['market_data'].get('market_cap', {}).get('usd', 1)\n",
        "\n",
        "    if past_volume == 0:\n",
        "        return 50  # Default score if volume data is missing\n",
        "\n",
        "    volume_growth = (current_volume / past_volume) * 100\n",
        "    if volume_growth > 50:\n",
        "        return 90\n",
        "    elif volume_growth > 10:\n",
        "        return 70\n",
        "    else:\n",
        "        return 50\n",
        "\n",
        "# Placeholder function to score Yield, Rewards, and Institutional Interest\n",
        "def score_yield_and_interest():\n",
        "    # Normally you would fetch staking APY or institutional data here\n",
        "    return np.random.randint(60, 90)\n",
        "\n",
        "# Placeholder function for Project Team Reputation and Social Sentiment\n",
        "def score_team_reputation():\n",
        "    # Normally you would use social sentiment APIs here (e.g., LunarCrush)\n",
        "    return np.random.randint(60, 90)\n",
        "\n",
        "# Technical Analysis and Momentum\n",
        "def score_technical_analysis(coin_data):\n",
        "    current_price = coin_data['market_data']['current_price']['usd']\n",
        "    # Assume 50-day and 200-day moving averages (these would normally be fetched or calculated)\n",
        "    ma_50_day = current_price * 0.9\n",
        "    ma_200_day = current_price * 0.85\n",
        "\n",
        "    if current_price > ma_50_day and current_price > ma_200_day:\n",
        "        return 90\n",
        "    elif current_price > ma_50_day or current_price > ma_200_day:\n",
        "        return 70\n",
        "    else:\n",
        "        return 50\n",
        "\n",
        "# Regulatory Compliance\n",
        "def score_regulatory_compliance():\n",
        "    # Placeholder for checking regulatory compliance (KYC/AML adherence)\n",
        "    # You'd fetch actual regulatory status here from legal data sources\n",
        "    return np.random.randint(70, 100)\n",
        "\n",
        "# Calculate final score\n",
        "def calculate_final_score(tokenomics_score, ecosystem_growth_score, yield_interest_score, team_reputation_score, technical_score, regulatory_compliance_score):\n",
        "    final_score = (\n",
        "        (tokenomics_score * 0.15) +\n",
        "        (ecosystem_growth_score * 0.20) +\n",
        "        (yield_interest_score * 0.15) +\n",
        "        (team_reputation_score * 0.15) +\n",
        "        (technical_score * 0.15) +\n",
        "        (regulatory_compliance_score * 0.20)\n",
        "    )\n",
        "    return final_score\n",
        "\n",
        "# Main function to calculate the score for a given cryptocurrency\n",
        "def calculate_crypto_score(coin_id):\n",
        "    coin_data = fetch_coin_data(coin_id)\n",
        "\n",
        "    tokenomics_score = score_tokenomics(coin_data)\n",
        "    ecosystem_growth_score = score_ecosystem_growth(coin_data)\n",
        "    yield_interest_score = score_yield_and_interest()\n",
        "    team_reputation_score = score_team_reputation()\n",
        "    technical_score = score_technical_analysis(coin_data)\n",
        "    regulatory_compliance_score = score_regulatory_compliance()\n",
        "\n",
        "    final_score = calculate_final_score(\n",
        "        tokenomics_score,\n",
        "        ecosystem_growth_score,\n",
        "        yield_interest_score,\n",
        "        team_reputation_score,\n",
        "        technical_score,\n",
        "        regulatory_compliance_score\n",
        "    )\n",
        "\n",
        "    print(f\"Final score for {coin_data['name']} ({coin_data['symbol']}): {final_score}\")\n",
        "    return final_score\n",
        "\n",
        "# Example usage\n",
        "if __name__ == \"__main__\":\n",
        "    coin_ids = ['bitcoin', 'ethereum', 'cardano']  # Add coin IDs of interest here\n",
        "    for coin_id in coin_ids:\n",
        "        calculate_crypto_score(coin_id)\n"
      ],
      "metadata": {
        "colab": {
          "base_uri": "https://localhost:8080/"
        },
        "id": "kQZ_QMO4mVK6",
        "outputId": "b1d2044c-0812-49b0-f3e8-4b6966efc062"
      },
      "execution_count": 2,
      "outputs": [
        {
          "output_type": "stream",
          "name": "stdout",
          "text": [
            "Final score for Bitcoin (btc): 68.7\n",
            "Final score for Ethereum (eth): 72.25\n",
            "Final score for Cardano (ada): 70.35\n"
          ]
        }
      ]
    }
  ]
}